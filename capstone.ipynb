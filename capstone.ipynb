{
 "cells": [
  {
   "cell_type": "markdown",
   "metadata": {},
   "source": [
    "# Capstone: Analisando a temperatura do Brasil\n",
    "\n",
    "Nessa prática iremos juntar os conhecimentos que vimos durante toda a matéria. Vamos analisar os dados de temperatura do Brasil que vimos nas aulas de Python. Vamos utilizar uma [regressão linear](https://pt.wikipedia.org/wiki/Regress%C3%A3o_linear) para estimar a taxa de variação da temperatura ao longo dos anos. Finalmente, vamos visualizar esses valores em um mapa do Brasil.\n",
    "\n",
    "Faremos funções para cada etapa para podermos testar as partes do nosso código separadamente."
   ]
  },
  {
   "cell_type": "markdown",
   "metadata": {},
   "source": [
    "## Setup\n",
    "\n",
    "Abaixo, vamos carregar todas as bibliotecas que precisamos:\n",
    "\n",
    "* `numpy` para fazer contas com matrizes e vetores\n",
    "* `maptlotlib.pyplot` para fazer gráficos\n",
    "* `mpl_toolkits.basemap` para fazer mapas\n",
    "* `scipy.stats` para a regressão linear\n",
    "* `glob` para descobrir os nomes de todos os arquivos em uma pasta"
   ]
  },
  {
   "cell_type": "code",
   "execution_count": 2,
   "metadata": {
    "collapsed": false
   },
   "outputs": [],
   "source": [
    "%matplotlib inline\n",
    "import numpy as np\n",
    "import matplotlib.pyplot as plt\n",
    "#from mpl_toolkits.basemap import Basemap\n",
    "from scipy.stats import linregress\n",
    "from glob import glob"
   ]
  },
  {
   "cell_type": "markdown",
   "metadata": {},
   "source": [
    "<div class=\"alert text-center\" style=\"font-size: 16pt\">\n",
    "Diferente das outras práticas, eu vou preecher o código inicial ao vivo durante a aula. \n",
    "<br><br>\n",
    "Façam junto comigo para não se perderem.\n",
    "</div>"
   ]
  },
  {
   "cell_type": "markdown",
   "metadata": {},
   "source": [
    "##"
   ]
  },
  {
   "cell_type": "code",
   "execution_count": 11,
   "metadata": {
    "collapsed": false
   },
   "outputs": [],
   "source": [
    "def le_lat_lon (nome_arquivo):\n",
    "    arquivo = open (nome_arquivo)\n",
    "    for linhas in range(0, 5):\n",
    "        linha = arquivo.readline()\n",
    "    partes = linha.split()\n",
    "    lat = float(partes [1])\n",
    "    if partes [2] == 'S':\n",
    "        lat = -lat\n",
    "    lon = float(partes [3])\n",
    "    if partes  [4] == 'W':\n",
    "        lon= -lon\n",
    "        return lat, lon\n"
   ]
  },
  {
   "cell_type": "code",
   "execution_count": 13,
   "metadata": {
    "collapsed": false
   },
   "outputs": [
    {
     "name": "stdout",
     "output_type": "stream",
     "text": [
      "0.8 -49.02\n"
     ]
    }
   ],
   "source": [
    "lat, lon = le_lat_lon ('dados/0.80S-49.02W-TAVG-Trend.txt') \n",
    "print (lat, lon)"
   ]
  },
  {
   "cell_type": "code",
   "execution_count": 17,
   "metadata": {
    "collapsed": true
   },
   "outputs": [],
   "source": [
    "def le_temp_abs (nome_arquivo):\n",
    "    arquivo = open (nome_arquivo)\n",
    "    for linhas in range (48):\n",
    "        linha = arquivo.readline ()\n",
    "    partes = linha.split ()\n",
    "    temp_abs = float(partes [-3])\n",
    "    return temp_abs"
   ]
  },
  {
   "cell_type": "code",
   "execution_count": 18,
   "metadata": {
    "collapsed": false
   },
   "outputs": [
    {
     "name": "stdout",
     "output_type": "stream",
     "text": [
      "26.74\n"
     ]
    }
   ],
   "source": [
    "temperatura = le_temp_abs('dados/0.80S-49.02W-TAVG-Trend.txt')\n",
    "print (temperatura)"
   ]
  },
  {
   "cell_type": "code",
   "execution_count": 24,
   "metadata": {
    "collapsed": false
   },
   "outputs": [],
   "source": [
    "def le_anos_anomalias (nome_arquivo):\n",
    "\n",
    "\n",
    "\n",
    "    return anos_decimais, anomalia"
   ]
  },
  {
   "cell_type": "code",
   "execution_count": 25,
   "metadata": {
    "collapsed": false
   },
   "outputs": [
    {
     "ename": "NameError",
     "evalue": "name 'anos_decimais' is not defined",
     "output_type": "error",
     "traceback": [
      "\u001b[1;31m\u001b[0m",
      "\u001b[1;31mNameError\u001b[0mTraceback (most recent call last)",
      "\u001b[1;32m<ipython-input-25-2cb2c95a389e>\u001b[0m in \u001b[0;36m<module>\u001b[1;34m()\u001b[0m\n\u001b[1;32m----> 1\u001b[1;33m \u001b[0manos\u001b[0m\u001b[1;33m,\u001b[0m \u001b[0manom\u001b[0m \u001b[1;33m=\u001b[0m \u001b[0mle_anos_anomalias\u001b[0m \u001b[1;33m(\u001b[0m\u001b[1;34m'dados/0.80S-49.02W-TAVG-Trend.txt'\u001b[0m\u001b[1;33m)\u001b[0m\u001b[1;33m\u001b[0m\u001b[0m\n\u001b[0m",
      "\u001b[1;32m<ipython-input-24-e352a22a8a7f>\u001b[0m in \u001b[0;36mle_anos_anomalias\u001b[1;34m(nome_arquivo)\u001b[0m\n\u001b[0;32m      3\u001b[0m \u001b[1;33m\u001b[0m\u001b[0m\n\u001b[0;32m      4\u001b[0m \u001b[1;33m\u001b[0m\u001b[0m\n\u001b[1;32m----> 5\u001b[1;33m     \u001b[1;32mreturn\u001b[0m \u001b[0manos_decimais\u001b[0m\u001b[1;33m,\u001b[0m \u001b[0manomalia\u001b[0m\u001b[1;33m\u001b[0m\u001b[0m\n\u001b[0m",
      "\u001b[1;31mNameError\u001b[0m: name 'anos_decimais' is not defined"
     ]
    }
   ],
   "source": [
    "anos, anom = le_anos_anomalias ('dados/0.80S-49.02W-TAVG-Trend.txt')"
   ]
  },
  {
   "cell_type": "code",
   "execution_count": null,
   "metadata": {
    "collapsed": true
   },
   "outputs": [],
   "source": [
    "plt.figure()\n",
    "plt.plot (anos, anom, '-k', color = )"
   ]
  },
  {
   "cell_type": "code",
   "execution_count": null,
   "metadata": {
    "collapsed": true
   },
   "outputs": [],
   "source": []
  },
  {
   "cell_type": "markdown",
   "metadata": {
    "collapsed": true
   },
   "source": [
    "**Course website**: https://github.com/mat-esp/about\n",
    "\n",
    "**Note**: This notebook is part of the course \"Matemática Especial I\" of the [Universidade do Estado do Rio de Janeiro](http://www.uerj.br/). All content can be freely used and adapted under the terms of the \n",
    "[Creative Commons Attribution 4.0 International License](http://creativecommons.org/licenses/by/4.0/).\n",
    "\n",
    "![Creative Commons License](https://i.creativecommons.org/l/by/4.0/88x31.png)"
   ]
  }
 ],
 "metadata": {
  "anaconda-cloud": {},
  "kernelspec": {
   "display_name": "Python [Root]",
   "language": "python",
   "name": "Python [Root]"
  },
  "language_info": {
   "codemirror_mode": {
    "name": "ipython",
    "version": 3
   },
   "file_extension": ".py",
   "mimetype": "text/x-python",
   "name": "python",
   "nbconvert_exporter": "python",
   "pygments_lexer": "ipython3",
   "version": "3.5.2"
  }
 },
 "nbformat": 4,
 "nbformat_minor": 0
}
